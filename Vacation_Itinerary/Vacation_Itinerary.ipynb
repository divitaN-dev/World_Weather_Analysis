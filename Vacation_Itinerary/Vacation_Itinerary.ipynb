{
 "cells": [
  {
   "cell_type": "markdown",
   "metadata": {},
   "source": [
    "## Deliverable 3. Create a Travel Itinerary Map."
   ]
  },
  {
   "cell_type": "code",
   "execution_count": 45,
   "metadata": {},
   "outputs": [],
   "source": [
    "# Dependencies and Setup\n",
    "import pandas as pd\n",
    "import requests\n",
    "import gmaps\n",
    "import gmaps.datasets\n",
    "\n",
    "# Import API key\n",
    "import sys, os.path\n",
    "sys.path.append(os.path.abspath('../'))\n",
    "from config import g_maps_key\n",
    "\n",
    "# Configure gmaps\n",
    "gmaps.configure(api_key=g_maps_key)"
   ]
  },
  {
   "cell_type": "code",
   "execution_count": 87,
   "metadata": {},
   "outputs": [
    {
     "data": {
      "text/html": [
       "<div>\n",
       "<style scoped>\n",
       "    .dataframe tbody tr th:only-of-type {\n",
       "        vertical-align: middle;\n",
       "    }\n",
       "\n",
       "    .dataframe tbody tr th {\n",
       "        vertical-align: top;\n",
       "    }\n",
       "\n",
       "    .dataframe thead th {\n",
       "        text-align: right;\n",
       "    }\n",
       "</style>\n",
       "<table border=\"1\" class=\"dataframe\">\n",
       "  <thead>\n",
       "    <tr style=\"text-align: right;\">\n",
       "      <th></th>\n",
       "      <th>City_ID</th>\n",
       "      <th>City</th>\n",
       "      <th>Country</th>\n",
       "      <th>Max Temp</th>\n",
       "      <th>Current Description</th>\n",
       "      <th>Lat</th>\n",
       "      <th>Lng</th>\n",
       "      <th>Hotel Name</th>\n",
       "    </tr>\n",
       "  </thead>\n",
       "  <tbody>\n",
       "    <tr>\n",
       "      <th>0</th>\n",
       "      <td>1</td>\n",
       "      <td>Hindaun</td>\n",
       "      <td>IN</td>\n",
       "      <td>54.61</td>\n",
       "      <td>clear sky</td>\n",
       "      <td>26.72</td>\n",
       "      <td>77.02</td>\n",
       "      <td>Shri Ganesham Resort and Water Park</td>\n",
       "    </tr>\n",
       "    <tr>\n",
       "      <th>1</th>\n",
       "      <td>3</td>\n",
       "      <td>Nikolskoye</td>\n",
       "      <td>RU</td>\n",
       "      <td>32.00</td>\n",
       "      <td>overcast clouds</td>\n",
       "      <td>59.70</td>\n",
       "      <td>30.79</td>\n",
       "      <td>Tourist House - Sablino</td>\n",
       "    </tr>\n",
       "    <tr>\n",
       "      <th>2</th>\n",
       "      <td>4</td>\n",
       "      <td>Colac</td>\n",
       "      <td>AU</td>\n",
       "      <td>60.01</td>\n",
       "      <td>overcast clouds</td>\n",
       "      <td>-38.33</td>\n",
       "      <td>143.58</td>\n",
       "      <td>Otway Gate Motel</td>\n",
       "    </tr>\n",
       "    <tr>\n",
       "      <th>3</th>\n",
       "      <td>6</td>\n",
       "      <td>Cape Town</td>\n",
       "      <td>ZA</td>\n",
       "      <td>62.01</td>\n",
       "      <td>few clouds</td>\n",
       "      <td>-33.93</td>\n",
       "      <td>18.42</td>\n",
       "      <td>Southern Sun Waterfront Cape Town</td>\n",
       "    </tr>\n",
       "    <tr>\n",
       "      <th>4</th>\n",
       "      <td>7</td>\n",
       "      <td>Bay Roberts</td>\n",
       "      <td>CA</td>\n",
       "      <td>51.80</td>\n",
       "      <td>overcast clouds</td>\n",
       "      <td>47.60</td>\n",
       "      <td>-53.26</td>\n",
       "      <td>Stonewall Inn</td>\n",
       "    </tr>\n",
       "  </tbody>\n",
       "</table>\n",
       "</div>"
      ],
      "text/plain": [
       "   City_ID         City Country  Max Temp Current Description    Lat     Lng  \\\n",
       "0        1      Hindaun      IN     54.61           clear sky  26.72   77.02   \n",
       "1        3   Nikolskoye      RU     32.00     overcast clouds  59.70   30.79   \n",
       "2        4        Colac      AU     60.01     overcast clouds -38.33  143.58   \n",
       "3        6    Cape Town      ZA     62.01          few clouds -33.93   18.42   \n",
       "4        7  Bay Roberts      CA     51.80     overcast clouds  47.60  -53.26   \n",
       "\n",
       "                            Hotel Name  \n",
       "0  Shri Ganesham Resort and Water Park  \n",
       "1              Tourist House - Sablino  \n",
       "2                     Otway Gate Motel  \n",
       "3    Southern Sun Waterfront Cape Town  \n",
       "4                        Stonewall Inn  "
      ]
     },
     "execution_count": 87,
     "metadata": {},
     "output_type": "execute_result"
    }
   ],
   "source": [
    "# 1. Read the WeatherPy_vacation.csv into a DataFrame.\n",
    "vacation_df = pd.read_csv(\"../Vacation_Search/WeatherPy_vacation.csv\")\n",
    "vacation_df.head()"
   ]
  },
  {
   "cell_type": "code",
   "execution_count": 8,
   "metadata": {},
   "outputs": [],
   "source": [
    "# 2. Using the template add the city name, the country code, the weather description and maximum temperature for the city.\n",
    "info_box_template = \"\"\"<dl>\n",
    "<dt>City</dt><dd>{City}</dd>\n",
    "<dt>Country</dt><dd>{Country}</dd>\n",
    "<dt>Weather description</dt><dd>{Current Description}</dd>\n",
    "<dt>Max Temp</dt><dd>{Max Temp} °F</dd>\n",
    "</dl>\n",
    "\"\"\"\n",
    "\n",
    "# 3a. Get the data from each row and add it to the formatting template and store the data in a list.\n",
    "hotel_info = [info_box_template.format(**row) for index, row in vacation_df.iterrows()]\n",
    "\n",
    "# 3b. Get the latitude and longitude from each row and store in a new DataFrame.\n",
    "locations = vacation_df[[\"Lat\", \"Lng\"]]"
   ]
  },
  {
   "cell_type": "code",
   "execution_count": 88,
   "metadata": {},
   "outputs": [
    {
     "data": {
      "application/vnd.jupyter.widget-view+json": {
       "model_id": "ef0ac1ef6c6e499ebe07803f5d3a7a97",
       "version_major": 2,
       "version_minor": 0
      },
      "text/plain": [
       "Figure(layout=FigureLayout(height='420px'))"
      ]
     },
     "metadata": {},
     "output_type": "display_data"
    }
   ],
   "source": [
    "# 4a. Add a marker layer for each city to the map.\n",
    "fig = gmaps.figure(center = (30.0, 31.0), zoom_level = 1.5)\n",
    "marker_layer = gmaps.marker_layer(locations, info_box_content=hotel_info)\n",
    "\n",
    "# 4b. Display the figure\n",
    "fig.add_layer(marker_layer)\n",
    "fig\n"
   ]
  },
  {
   "cell_type": "code",
   "execution_count": 20,
   "metadata": {},
   "outputs": [],
   "source": [
    "# From the map above pick 4 cities and create a vacation itinerary route to travel between the four cities. \n",
    "# 5. Create DataFrames for each city by filtering the 'vacation_df' using the loc method. \n",
    "# Hint: The starting and ending city should be the same city.\n",
    "\n",
    "vacation_start = vacation_df.loc[vacation_df[\"City\"] == \"Colac\"]\n",
    "vacation_end = vacation_df.loc[vacation_df[\"City\"] == \"Colac\"]\n",
    "vacation_stop1 = vacation_df.loc[vacation_df[\"City\"] == \"Warrnambool\"]\n",
    "vacation_stop2 = vacation_df.loc[vacation_df[\"City\"] == \"Codrington\"] \n",
    "vacation_stop3 = vacation_df.loc[vacation_df[\"City\"] == \"Mount Gambier\"] \n"
   ]
  },
  {
   "cell_type": "code",
   "execution_count": 50,
   "metadata": {},
   "outputs": [
    {
     "data": {
      "text/plain": [
       "array([[389, 'Mount Gambier', 'AU', 60.8, 'broken clouds', -37.83,\n",
       "        140.77, 'Commodore on the Park']], dtype=object)"
      ]
     },
     "execution_count": 50,
     "metadata": {},
     "output_type": "execute_result"
    }
   ],
   "source": [
    "# 6. Get the latitude-longitude pairs as tuples from each city DataFrame using the to_numpy function and list indexing.\n",
    "start = vacation_start.to_numpy()\n",
    "start_lat_lng = start[0][5], start[0][6]\n",
    "\n",
    "end = vacation_end.to_numpy()\n",
    "end_lat_lng = end[0][5], end[0][6]\n",
    "\n",
    "stop1 = vacation_stop1.to_numpy()\n",
    "stop1_lat_lng = stop1[0][5], stop1[0][6]\n",
    "\n",
    "stop2 = vacation_stop2.to_numpy()\n",
    "stop2_lat_lng = stop2[0][5], stop2[0][6]\n",
    "\n",
    "stop3 = vacation_stop3.to_numpy()\n",
    "stop3_lat_lng = stop3[0][5], stop3[0][6]\n"
   ]
  },
  {
   "cell_type": "code",
   "execution_count": 55,
   "metadata": {
    "scrolled": true
   },
   "outputs": [
    {
     "data": {
      "application/vnd.jupyter.widget-view+json": {
       "model_id": "d00264bab9924c72a4e76dc172715676",
       "version_major": 2,
       "version_minor": 0
      },
      "text/plain": [
       "Figure(layout=FigureLayout(height='420px'))"
      ]
     },
     "metadata": {},
     "output_type": "display_data"
    }
   ],
   "source": [
    "# 7. Create a direction layer map using the start and end latitude-longitude pairs,\n",
    "# and stop1, stop2, and stop3 as the waypoints. The travel_mode should be \"DRIVING\", \"BICYCLING\", or \"WALKING\".\n",
    "fig = gmaps.figure()\n",
    "\n",
    "direction_layer = gmaps.directions_layer(start_lat_lng, end_lat_lng, waypoints=[stop1_lat_lng, stop2_lat_lng, stop3_lat_lng], travel_mode = \"DRIVING\", stroke_color = 'red', stroke_opacity = 0.6)\n",
    "fig.add_layer(direction_layer)\n",
    "fig"
   ]
  },
  {
   "cell_type": "code",
   "execution_count": 57,
   "metadata": {},
   "outputs": [
    {
     "data": {
      "text/html": [
       "<div>\n",
       "<style scoped>\n",
       "    .dataframe tbody tr th:only-of-type {\n",
       "        vertical-align: middle;\n",
       "    }\n",
       "\n",
       "    .dataframe tbody tr th {\n",
       "        vertical-align: top;\n",
       "    }\n",
       "\n",
       "    .dataframe thead th {\n",
       "        text-align: right;\n",
       "    }\n",
       "</style>\n",
       "<table border=\"1\" class=\"dataframe\">\n",
       "  <thead>\n",
       "    <tr style=\"text-align: right;\">\n",
       "      <th></th>\n",
       "      <th>City_ID</th>\n",
       "      <th>City</th>\n",
       "      <th>Country</th>\n",
       "      <th>Max Temp</th>\n",
       "      <th>Current Description</th>\n",
       "      <th>Lat</th>\n",
       "      <th>Lng</th>\n",
       "      <th>Hotel Name</th>\n",
       "    </tr>\n",
       "  </thead>\n",
       "  <tbody>\n",
       "    <tr>\n",
       "      <th>0</th>\n",
       "      <td>4</td>\n",
       "      <td>Colac</td>\n",
       "      <td>AU</td>\n",
       "      <td>60.01</td>\n",
       "      <td>overcast clouds</td>\n",
       "      <td>-38.33</td>\n",
       "      <td>143.58</td>\n",
       "      <td>Otway Gate Motel</td>\n",
       "    </tr>\n",
       "    <tr>\n",
       "      <th>1</th>\n",
       "      <td>304</td>\n",
       "      <td>Warrnambool</td>\n",
       "      <td>AU</td>\n",
       "      <td>63.00</td>\n",
       "      <td>overcast clouds</td>\n",
       "      <td>-38.38</td>\n",
       "      <td>142.48</td>\n",
       "      <td>Lady Bay Resort</td>\n",
       "    </tr>\n",
       "    <tr>\n",
       "      <th>2</th>\n",
       "      <td>148</td>\n",
       "      <td>Codrington</td>\n",
       "      <td>AU</td>\n",
       "      <td>60.49</td>\n",
       "      <td>overcast clouds</td>\n",
       "      <td>-38.27</td>\n",
       "      <td>141.97</td>\n",
       "      <td>Codrington Gardens Bed And Breakfast</td>\n",
       "    </tr>\n",
       "    <tr>\n",
       "      <th>3</th>\n",
       "      <td>389</td>\n",
       "      <td>Mount Gambier</td>\n",
       "      <td>AU</td>\n",
       "      <td>60.80</td>\n",
       "      <td>broken clouds</td>\n",
       "      <td>-37.83</td>\n",
       "      <td>140.77</td>\n",
       "      <td>Commodore on the Park</td>\n",
       "    </tr>\n",
       "    <tr>\n",
       "      <th>4</th>\n",
       "      <td>4</td>\n",
       "      <td>Colac</td>\n",
       "      <td>AU</td>\n",
       "      <td>60.01</td>\n",
       "      <td>overcast clouds</td>\n",
       "      <td>-38.33</td>\n",
       "      <td>143.58</td>\n",
       "      <td>Otway Gate Motel</td>\n",
       "    </tr>\n",
       "  </tbody>\n",
       "</table>\n",
       "</div>"
      ],
      "text/plain": [
       "   City_ID           City Country  Max Temp Current Description    Lat  \\\n",
       "0        4          Colac      AU     60.01     overcast clouds -38.33   \n",
       "1      304    Warrnambool      AU     63.00     overcast clouds -38.38   \n",
       "2      148     Codrington      AU     60.49     overcast clouds -38.27   \n",
       "3      389  Mount Gambier      AU     60.80       broken clouds -37.83   \n",
       "4        4          Colac      AU     60.01     overcast clouds -38.33   \n",
       "\n",
       "      Lng                            Hotel Name  \n",
       "0  143.58                      Otway Gate Motel  \n",
       "1  142.48                       Lady Bay Resort  \n",
       "2  141.97  Codrington Gardens Bed And Breakfast  \n",
       "3  140.77                 Commodore on the Park  \n",
       "4  143.58                      Otway Gate Motel  "
      ]
     },
     "execution_count": 57,
     "metadata": {},
     "output_type": "execute_result"
    }
   ],
   "source": [
    "# 8. To create a marker layer map between the four cities.\n",
    "#  Combine the four city DataFrames into one DataFrame using the concat() function.\n",
    "itinerary_df = pd.concat([vacation_start,vacation_stop1,vacation_stop2,vacation_stop3,vacation_end],ignore_index=True)\n",
    "itinerary_df"
   ]
  },
  {
   "cell_type": "code",
   "execution_count": 72,
   "metadata": {},
   "outputs": [],
   "source": [
    "# 9 Using the template add city name, the country code, the weather description and maximum temperature for the city. \n",
    "info_box_template = \"\"\"<dl>\n",
    "<dt>Hotel Name</dt><dd>{Hotel Name}</dd>\n",
    "<dt>City</dt><dd>{City}</dd>\n",
    "<dt>Country</dt><dd>{Country}</dd>\n",
    "<dt>Weather description</dt><dd>{Current Description} and {Max Temp} °F</dd>\n",
    "</dl>\n",
    "\"\"\"\n",
    "# 10a Get the data from each row and add it to the formatting template and store the data in a list.\n",
    "hotel_info = [info_box_template.format(**row) for index, row in itinerary_df.iterrows()]\n",
    "\n",
    "# 10b. Get the latitude and longitude from each row and store in a new DataFrame.\n",
    "locations = itinerary_df[[\"Lat\", \"Lng\"]]"
   ]
  },
  {
   "cell_type": "code",
   "execution_count": 86,
   "metadata": {},
   "outputs": [
    {
     "data": {
      "application/vnd.jupyter.widget-view+json": {
       "model_id": "be7aab15c3d14ddab4941fe0c37d44d8",
       "version_major": 2,
       "version_minor": 0
      },
      "text/plain": [
       "Figure(layout=FigureLayout(height='420px'))"
      ]
     },
     "metadata": {},
     "output_type": "display_data"
    }
   ],
   "source": [
    "# 11a. Add a marker layer for each city to the map.\n",
    "fig = gmaps.figure(center=(start_lat_lng), zoom_level = 7)\n",
    "marker_layer = gmaps.marker_layer(locations, info_box_content=hotel_info )\n",
    "# 11b. Display the figure\n",
    "fig.add_layer(marker_layer)\n",
    "fig"
   ]
  },
  {
   "cell_type": "code",
   "execution_count": null,
   "metadata": {},
   "outputs": [],
   "source": []
  }
 ],
 "metadata": {
  "kernelspec": {
   "display_name": "PythonData",
   "language": "python",
   "name": "pythondata"
  },
  "language_info": {
   "codemirror_mode": {
    "name": "ipython",
    "version": 3
   },
   "file_extension": ".py",
   "mimetype": "text/x-python",
   "name": "python",
   "nbconvert_exporter": "python",
   "pygments_lexer": "ipython3",
   "version": "3.8.3"
  },
  "latex_envs": {
   "LaTeX_envs_menu_present": true,
   "autoclose": false,
   "autocomplete": true,
   "bibliofile": "biblio.bib",
   "cite_by": "apalike",
   "current_citInitial": 1,
   "eqLabelWithNumbers": true,
   "eqNumInitial": 1,
   "hotkeys": {
    "equation": "Ctrl-E",
    "itemize": "Ctrl-I"
   },
   "labels_anchors": false,
   "latex_user_defs": false,
   "report_style_numbering": false,
   "user_envs_cfg": false
  }
 },
 "nbformat": 4,
 "nbformat_minor": 2
}
